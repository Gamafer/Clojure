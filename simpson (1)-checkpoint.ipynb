{
 "cells": [
  {
   "cell_type": "markdown",
   "metadata": {
    "id": "PWOa0YM-AN_M"
   },
   "source": [
    "# Problemas ++\n",
    "\n",
    "## Ejercicios en equipo extendido\n",
    "\n",
    "---\n",
    "\n",
    "_nombre y matrícula_:Christopher Luis Miranda Vanegas A01022676\n",
    "\n",
    "_nombre y matrícula_:Archana Verma Rodríguez A01335895\n",
    "\n",
    "---\n",
    "\n",
    "### Objetivo\n",
    "\n",
    "* Escribe funciones de complejidad media utilizando el lenguaje de programación Clojure.\n",
    "\n",
    "---\n",
    "\n",
    "### Instructions\n",
    "\n",
    "- Con todos los miembros del equipo de su sala de reuniones, escriba el código Clojure necesario para resolver el siguiente problema. \n",
    "\n",
    "- NO USAR CICLOS, NI RECURSIÓN\n",
    "\n",
    "- Fecha de entrega: 9 mayo 2021."
   ]
  },
  {
   "cell_type": "markdown",
   "metadata": {
    "id": "winpwSiXAN_S"
   },
   "source": [
    "Revisa: https://www.youtube.com/watch?v=Uie0KxjwKlE"
   ]
  },
  {
   "cell_type": "markdown",
   "metadata": {
    "id": "yZoKMCD8AN_S"
   },
   "source": [
    "---\n",
    "\n",
    "## 2do Parcial:\n",
    "\n",
    "** La regla de Simpson ** es un método para la integración numérica:\n",
    "\n",
    "$$\n",
    "\\int_{a}^{b}f=\\frac{h}{3}(y_0 + 4y_1 + 2y_2 + 4y_3 + 2y_4 + \\cdots + 2y_{n-2} + 4y_{n-1} + y_n)\n",
    "$$\n",
    "\n",
    "Donde $ n $ es un número entero positivo par (si incrementas el valor de $ n $ obtienes una mejor aproximación), y $ h $ y $ y_k $ se definen de la siguiente manera:\n",
    "\n",
    "$$\n",
    "h = \\frac{b - a}{n}\n",
    "$$\n",
    "\n",
    "$$\n",
    "y_k = f(a + kh)\n",
    "$$\n",
    "\n",
    "Escribe la función `simpson`, que toma como argumentos `a`, `b`,` n` y `f`. Devuelve el valor de la integral, usando la regla de Simpson. \n",
    "\n",
    "Realiza tus pruebas unitarias para resolver las siguientes integrales simples y dobles (con  `n` = 4 y con `n` = 20):\n",
    "\n",
    "$$\n",
    "\\int_{0}^{1} x^3\\textit{dx}\n",
    "$$\n",
    "\n",
    "\n",
    "$$\n",
    "\\int_{1}^{2} \\frac{sin(x)}{x}\\textit{dx}\n",
    "$$\n",
    "\n",
    "\n",
    "$$\n",
    "\\int_{1}^{2} \\int_{3}^{4} xy \\cdot \\textit{dx} \\cdot \\textit{dy} \n",
    "$$\n"
   ]
  },
  {
   "cell_type": "code",
   "execution_count": null,
   "metadata": {
    "id": "9wIfVmUCay5H"
   },
   "outputs": [],
   "source": [
    ";; agrega tus funciones para probar la regla de simpson."
   ]
  },
  {
   "cell_type": "code",
   "execution_count": 1,
   "metadata": {},
   "outputs": [
    {
     "data": {
      "text/plain": [
       "nil"
      ]
     },
     "execution_count": 1,
     "metadata": {},
     "output_type": "execute_result"
    }
   ],
   "source": [
    "(require '[clojure.test :refer [is]])\n",
    "(require '[cemerick.pomegranate :refer [add-dependencies]])\n",
    "(add-dependencies :coordinates '[[org.clojure/math.numeric-tower \"0.0.4\"]])\n",
    "(require '[clojure.math.numeric-tower :refer [sqrt expt]])"
   ]
  },
  {
   "cell_type": "code",
   "execution_count": 25,
   "metadata": {
    "colab": {
     "base_uri": "https://localhost:8080/",
     "height": 130
    },
    "id": "dR2PxRAdCCUd",
    "outputId": "61ee2de3-1cf1-4865-a31f-cc0451e113a9"
   },
   "outputs": [
    {
     "data": {
      "text/plain": [
       "#'user/lineal"
      ]
     },
     "execution_count": 25,
     "metadata": {},
     "output_type": "execute_result"
    }
   ],
   "source": [
    "(defn cubic [x](* x x x))\n",
    "(defn sinDiv [x] (/ (Math/sin x) x))\n",
    "(defn lineal[x]  x)\n"
   ]
  },
  {
   "cell_type": "code",
   "execution_count": 19,
   "metadata": {
    "colab": {
     "base_uri": "https://localhost:8080/",
     "height": 130
    },
    "id": "juu_UDEIAN_T",
    "outputId": "294a73b5-8273-4dd8-b8ca-41ef481dc762"
   },
   "outputs": [
    {
     "data": {
      "text/plain": [
       "#'user/simpsonFun"
      ]
     },
     "execution_count": 19,
     "metadata": {},
     "output_type": "execute_result"
    }
   ],
   "source": [
    " (defn simpsonFun\n",
    "  [a b n f]\n",
    "  (let [h (/ (- b a) n)\n",
    "        evaluation (fn [k]\n",
    "                       (let [y (f (+ a (* k h)))]\n",
    "                         (cond \n",
    "                          (= k 0) y\n",
    "                          (= k n) y\n",
    "                          (even? k) (* 2 y)\n",
    "                          :else (* 4 y))))] \n",
    "     (defn termCalc\n",
    "      ([i] (lazy-seq (cons (evaluation i) (termCalc (inc i))))))\n",
    "      (float (* (/ h 3) (reduce + (take (+ n 1) (termCalc 0)))))\n",
    " )\n",
    ")"
   ]
  },
  {
   "cell_type": "code",
   "execution_count": 29,
   "metadata": {},
   "outputs": [
    {
     "data": {
      "text/plain": [
       "0.25"
      ]
     },
     "execution_count": 29,
     "metadata": {},
     "output_type": "execute_result"
    }
   ],
   "source": [
    "(simpsonFun 0 1 4 cubic) "
   ]
  },
  {
   "cell_type": "code",
   "execution_count": 28,
   "metadata": {},
   "outputs": [
    {
     "data": {
      "text/plain": [
       "0.25"
      ]
     },
     "execution_count": 28,
     "metadata": {},
     "output_type": "execute_result"
    }
   ],
   "source": [
    "(simpsonFun 0 1 20 cubic) "
   ]
  },
  {
   "cell_type": "code",
   "execution_count": 30,
   "metadata": {},
   "outputs": [
    {
     "data": {
      "text/plain": [
       "0.6593312"
      ]
     },
     "execution_count": 30,
     "metadata": {},
     "output_type": "execute_result"
    }
   ],
   "source": [
    "(simpsonFun 1 2 4 sinDiv) "
   ]
  },
  {
   "cell_type": "code",
   "execution_count": 33,
   "metadata": {},
   "outputs": [
    {
     "data": {
      "text/plain": [
       "0.6593299"
      ]
     },
     "execution_count": 33,
     "metadata": {},
     "output_type": "execute_result"
    }
   ],
   "source": [
    "(simpsonFun 1 2 20 sinDiv) "
   ]
  },
  {
   "cell_type": "code",
   "execution_count": 34,
   "metadata": {},
   "outputs": [
    {
     "data": {
      "text/plain": [
       "5.25"
      ]
     },
     "execution_count": 34,
     "metadata": {},
     "output_type": "execute_result"
    }
   ],
   "source": [
    "(defn doubleSimpson[a b a2 b2 n f]\n",
    "    (*(simpsonFun a b n f) (simpsonFun a2 b2 n f))\n",
    "    )\n",
    "(doubleSimpson 3 4 1 2 4 lineal)"
   ]
  },
  {
   "cell_type": "code",
   "execution_count": 3,
   "metadata": {},
   "outputs": [
    {
     "name": "stderr",
     "output_type": "stream",
     "text": [
      "Syntax error compiling at (REPL:2:7).\n",
      "Unable to resolve symbol: simpsonFun in this context\n",
      "Syntax error compiling at (REPL:4:1).\n",
      "Unable to resolve symbol: lineal in this context\n"
     ]
    },
    {
     "ename": "class clojure.lang.Compiler$CompilerException",
     "evalue": "",
     "output_type": "error",
     "traceback": [
      "  Util.java:   221 clojure.lang.Util/runtimeException",
      "   core.clj:  3214 clojure.core$eval/invokeStatic",
      "   core.clj:  3210 clojure.core$eval/invoke",
      "   main.clj:   437 clojure.main$repl$read_eval_print__9086$fn__9089/invoke",
      "   main.clj:   458 clojure.main$repl$fn__9095/invoke",
      "   main.clj:   368 clojure.main$repl/doInvoke",
      "RestFn.java:  1523 clojure.lang.RestFn/invoke",
      "   AFn.java:    22 clojure.lang.AFn/run",
      "   AFn.java:    22 clojure.lang.AFn/run",
      "Thread.java:   745 java.lang.Thread/run"
     ]
    }
   ],
   "source": [
    "(defn doubleSimpson[a b a2 b2 n f]\n",
    "    (*(simpsonFun a b n f) (simpsonFun a2 b2 n f))\n",
    "    )\n",
    "(doubleSimpson 3 4 1 2 20 lineal)"
   ]
  },
  {
   "cell_type": "code",
   "execution_count": null,
   "metadata": {},
   "outputs": [],
   "source": []
  }
 ],
 "metadata": {
  "colab": {
   "name": "simpson.ipynb",
   "provenance": []
  },
  "kernelspec": {
   "display_name": "Clojure (clojupyter=0.3.2=1)",
   "language": "clojure",
   "name": "conda-clojupyter"
  },
  "language_info": {
   "file_extension": ".clj",
   "mimetype": "text/x-clojure",
   "name": "clojure",
   "version": "1.10.1"
  }
 },
 "nbformat": 4,
 "nbformat_minor": 1
}
