{
 "cells": [
  {
   "cell_type": "code",
   "execution_count": 9,
   "metadata": {},
   "outputs": [
    {
     "data": {
      "text/plain": [
       "#'user/uno"
      ]
     },
     "execution_count": 9,
     "metadata": {},
     "output_type": "execute_result"
    }
   ],
   "source": [
    "(defn uno [x y lista]\n",
    "    (loop [ListaE lista]\n",
    "        (if (not - (first ListaE) nil)\n",
    "            (do\n",
    "                (if (- (first ListaE)x)\n",
    "                    (println y)\n",
    "                    (do\n",
    "                        (if (- (first ListaE)y)\n",
    "                            (println x)\n",
    "                            (if (list?(first ListaE))\n",
    "                                (uno x y (first ListaE))\n",
    "                                (println (first ListaE))\n",
    "                                )\n",
    "                            )\n",
    "                        )\n",
    "                    )\n",
    "                (recur (rest ListaE))\n",
    "                )\n",
    "            )\n",
    "        )\n",
    "    )"
   ]
  },
  {
   "cell_type": "code",
   "execution_count": null,
   "metadata": {},
   "outputs": [],
   "source": []
  },
  {
   "cell_type": "code",
   "execution_count": null,
   "metadata": {},
   "outputs": [],
   "source": []
  },
  {
   "cell_type": "code",
   "execution_count": null,
   "metadata": {},
   "outputs": [],
   "source": []
  }
 ],
 "metadata": {
  "kernelspec": {
   "display_name": "Clojure (clojupyter=0.3.2=1)",
   "language": "clojure",
   "name": "conda-clojupyter"
  },
  "language_info": {
   "file_extension": ".clj",
   "mimetype": "text/x-clojure",
   "name": "clojure",
   "version": "1.10.1"
  }
 },
 "nbformat": 4,
 "nbformat_minor": 4
}
