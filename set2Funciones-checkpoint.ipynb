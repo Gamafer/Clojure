{
 "cells": [
  {
   "cell_type": "markdown",
   "metadata": {},
   "source": [
    "# Funciones # Set 2\n",
    "\n",
    "## Tc2006 Lenguajes de programación\n",
    "\n",
    "\n",
    "_Autores:: _\n",
    "\n",
    "- _ Matrícula y nombre del estudiante: _\n",
    "- _ Matrícula y nombre del estudiante: _\n",
    "- _ Matrícula y nombre del estudiante: _\n",
    "\n",
    "** Instrucciones: ** Escribe el código de Clojure para solucionar los siguientes problemas. Asegúrese de que cada función pase todas las pruebas unitarias."
   ]
  },
  {
   "cell_type": "code",
   "execution_count": null,
   "metadata": {},
   "outputs": [],
   "source": [
    ";; Funciones extras para pruebas:\n",
    "(require '[clojure.test :refer [is]])\n",
    "(require '[cemerick.pomegranate :refer [add-dependencies]])\n",
    "(add-dependencies :coordinates '[[org.clojure/math.numeric-tower \"0.0.4\"]])\n",
    "(require '[clojure.math.numeric-tower :refer [sqrt expt]])"
   ]
  },
  {
   "cell_type": "markdown",
   "metadata": {},
   "source": [
    "---\n",
    "## Problema 1\n",
    "\n",
    "Escribe una función llamada `gibibytes-> bytes` que toma un número de _gibibytes_ y devuelve su correspondiente conversión a bytes.\n",
    "\n",
    "Recuerda:\n",
    "\n",
    "- 1 kB (kibibyte) = $2^{10}$ bytes = 1,024 bytes\n",
    "- 1 MB (mebibyte) = $2^{20}$ bytes = 1,024 kibibytes\n",
    "- 1 GB (gibibyte) = $2^{30}$ bytes = 1,024 mebibytes"
   ]
  },
  {
   "cell_type": "code",
   "execution_count": 2,
   "metadata": {},
   "outputs": [
    {
     "data": {
      "text/plain": [
       "#'user/gibibytes2bytes"
      ]
     },
     "execution_count": 2,
     "metadata": {},
     "output_type": "execute_result"
    }
   ],
   "source": [
    "(defn gibibytes2bytes [GiB]\n",
    "  ;; (defn gibibytes2bytes [GiB] (* (* (* GiB 1024) 1024) 1024))\n",
    "  nil)"
   ]
  },
  {
   "cell_type": "code",
   "execution_count": 3,
   "metadata": {},
   "outputs": [
    {
     "name": "stderr",
     "output_type": "stream",
     "text": [
      "Syntax error compiling at (REPL:2:1).\n",
      "Unable to resolve symbol: is in this context\n",
      "Syntax error compiling at (REPL:3:1).\n",
      "Unable to resolve symbol: is in this context\n",
      "Syntax error compiling at (REPL:4:1).\n",
      "Unable to resolve symbol: is in this context\n",
      "Syntax error compiling at (REPL:5:1).\n",
      "Unable to resolve symbol: is in this context\n"
     ]
    },
    {
     "ename": "class clojure.lang.Compiler$CompilerException",
     "evalue": "",
     "output_type": "error",
     "traceback": [
      "  Util.java:   221 clojure.lang.Util/runtimeException",
      "   core.clj:  3214 clojure.core$eval/invokeStatic",
      "   core.clj:  3210 clojure.core$eval/invoke",
      "   main.clj:   437 clojure.main$repl$read_eval_print__9086$fn__9089/invoke",
      "   main.clj:   458 clojure.main$repl$fn__9095/invoke",
      "   main.clj:   368 clojure.main$repl/doInvoke",
      "RestFn.java:  1523 clojure.lang.RestFn/invoke",
      "   AFn.java:    22 clojure.lang.AFn/run",
      "   AFn.java:    22 clojure.lang.AFn/run",
      "Thread.java:   745 java.lang.Thread/run"
     ]
    }
   ],
   "source": [
    ";; 1:\n",
    "(is (= 0 (gibibytes2bytes 0)))\n",
    "(is (= 1073741824 (gibibytes2bytes 1)))\n",
    "(is (= 5368709120 (gibibytes2bytes 5)))\n",
    "(is (= 26415122612224 (gibibytes2bytes 24601)))"
   ]
  },
  {
   "cell_type": "markdown",
   "metadata": {},
   "source": [
    "---\n",
    "## Problema 2\n",
    "\n",
    "Escribe una función llamada `fToC` que tome una temperatura $ F $ en grados Fahrenheit y la convierta a grados Celsius.\n",
    "\n",
    "** Recuerda: ** Si $ F $ es una temperatura en grados Fahrenheit, para convertirla a $ C $ grados Celsius debemos usar la siguiente fórmula: \n",
    "\n",
    "$$\n",
    "C = \\frac{5 (F - 32)}{9}\n",
    "$$"
   ]
  },
  {
   "cell_type": "code",
   "execution_count": null,
   "metadata": {},
   "outputs": [],
   "source": [
    "(defn fToC [f]\n",
    "  ;; your code goes here\n",
    "  nil)"
   ]
  },
  {
   "cell_type": "code",
   "execution_count": null,
   "metadata": {},
   "outputs": [],
   "source": [
    ";; Unit tests:\n",
    "(is (= 100.0 (fToC 212.0)))\n",
    "(is (= 0.0 (fToC 32.0)))\n",
    "(is (= -40.0 (fToC -40.0)))"
   ]
  },
  {
   "cell_type": "markdown",
   "metadata": {},
   "source": [
    "---\n",
    "## Problema 3\n",
    "\n",
    "Escribe una función llamada \"signo\" que tome un valor entero $ n $. Devuelve $ -1 $ si $ n $ es negativo, 1 si $ n $ es positivo mayor que cero o 0 si $ n $ es cero."
   ]
  },
  {
   "cell_type": "code",
   "execution_count": null,
   "metadata": {},
   "outputs": [],
   "source": [
    "(defn signo [n]\n",
    "  ;; your code goes here\n",
    "  nil)"
   ]
  },
  {
   "cell_type": "code",
   "execution_count": null,
   "metadata": {},
   "outputs": [],
   "source": [
    ";; Unit tests:\n",
    "(is (= -1 (signo -5)))\n",
    "(is (= 1 (signo 10)))\n",
    "(is (= 0 (signo 0)))"
   ]
  },
  {
   "cell_type": "markdown",
   "metadata": {},
   "source": [
    "---\n",
    "## Problema 4\n",
    "\n",
    "Escribe una función llamada `raíces` que devuelva un vector que contenga las dos posibles raíces que resuelven una ecuación cuadrática dados sus tres coeficientes ($ a $, $ b $, $ c $) usando la siguiente fórmula:\n",
    "\n",
    "$$\n",
    "x=\\frac{-b\\pm \\sqrt{b^2-4ac}}{2a}\n",
    "$$\n",
    "\n",
    "** SUGERENCIA: ** Para obtener la raíz cuadrada de un número, use la función `sqrt` definida en el espacio de nombres` clojure.math.numeric-tower` (esta función se importó en la primera celda de este cuaderno)."
   ]
  },
  {
   "cell_type": "code",
   "execution_count": null,
   "metadata": {},
   "outputs": [],
   "source": [
    "(defn raices [a b c]\n",
    "  ;; code\n",
    "  nil)"
   ]
  },
  {
   "cell_type": "code",
   "execution_count": null,
   "metadata": {},
   "outputs": [],
   "source": [
    ";; Unit tests\n",
    "(is (= [-1 -1] (raices 2 4 2)))\n",
    "(is (= [0 0] (raices 1 0 0)))\n",
    "(is (= [-1/4 -1] (raices 4 5 1)))"
   ]
  },
  {
   "cell_type": "code",
   "execution_count": null,
   "metadata": {},
   "outputs": [],
   "source": [
    "(symbol? 'ciao) "
   ]
  }
 ],
 "metadata": {
  "kernelspec": {
   "display_name": "Clojure (clojupyter=0.3.2=1)",
   "language": "clojure",
   "name": "conda-clojupyter"
  },
  "language_info": {
   "file_extension": ".clj",
   "mimetype": "text/x-clojure",
   "name": "clojure",
   "version": "1.10.1"
  }
 },
 "nbformat": 4,
 "nbformat_minor": 4
}
