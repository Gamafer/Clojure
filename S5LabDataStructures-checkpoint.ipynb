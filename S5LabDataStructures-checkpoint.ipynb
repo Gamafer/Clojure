{
 "cells": [
  {
   "cell_type": "markdown",
   "metadata": {},
   "source": [
    "# SET # 4\n",
    "\n",
    "## Tc2006 Lenguajes de programación\n",
    "\n",
    "_Autores de la solución de este cuaderno: _\n",
    "\n",
    "- _ ID y nombre del estudiante: _\n",
    "- _ ID y nombre del estudiante: _\n",
    "- _ ID y nombre del estudiante: _\n",
    "\n",
    "** Instrucciones: ** Escribe el código de Clojure para solucionar los siguientes problemas. Asegúrese de que cada función pase todas las pruebas unitarias."
   ]
  },
  {
   "cell_type": "code",
   "execution_count": 3,
   "metadata": {},
   "outputs": [
    {
     "data": {
      "text/plain": [
       "nil"
      ]
     },
     "execution_count": 3,
     "metadata": {},
     "output_type": "execute_result"
    }
   ],
   "source": [
    ";;; External function required for this notebook.\n",
    "(require '[clojure.test :refer [is]])"
   ]
  },
  {
   "cell_type": "markdown",
   "metadata": {},
   "source": [
    "---\n",
    "## UNO\n",
    "\n",
    "La función `positivos` toma una lista de números ` lista` como entrada y devuelve una nueva lista que solo contiene los números positivos de `lista`."
   ]
  },
  {
   "cell_type": "code",
   "execution_count": 53,
   "metadata": {},
   "outputs": [
    {
     "data": {
      "text/plain": [
       "#'user/positivos"
      ]
     },
     "execution_count": 53,
     "metadata": {},
     "output_type": "execute_result"
    }
   ],
   "source": [
    "(defn positivos\n",
    "  [lst]\n",
    "    ;; your code\n",
    "    nil\n",
    ")"
   ]
  },
  {
   "cell_type": "code",
   "execution_count": 52,
   "metadata": {},
   "outputs": [
    {
     "data": {
      "text/plain": [
       "true"
      ]
     },
     "execution_count": 52,
     "metadata": {},
     "output_type": "execute_result"
    }
   ],
   "source": [
    ";;; Unit tests:\n",
    "(is (= () (positivos '())))\n",
    "(is (= () (positivos '(-4 -1 -10 -13 -5))))\n",
    "(is (= '(3 6) (positivos '(-4 3 -1 -10 -13 6 -5))))\n",
    "(is (= '(4 3 1 10 13 6 5) (positivos '(4 3 1 10 13 6 5))))"
   ]
  },
  {
   "cell_type": "markdown",
   "metadata": {},
   "source": [
    "---\n",
    "## Dos\n",
    "\n",
    "La función `enlista` rodea en una lista cada elemento de nivel superior de la lista que toma como entrada."
   ]
  },
  {
   "cell_type": "code",
   "execution_count": 1,
   "metadata": {},
   "outputs": [
    {
     "data": {
      "text/plain": [
       "#'user/enlista"
      ]
     },
     "execution_count": 1,
     "metadata": {},
     "output_type": "execute_result"
    }
   ],
   "source": [
    "(defn enlista\n",
    "  [lst]\n",
    "  (loop [lista lst listaResultado '()]\n",
    "      (if (not= (first lista) nil)\n",
    "          (recur (rest lista) (conj listaResultado (first lst))))))"
   ]
  },
  {
   "cell_type": "code",
   "execution_count": 6,
   "metadata": {},
   "outputs": [
    {
     "name": "stdout",
     "output_type": "stream",
     "text": [
      "\n",
      "FAIL in () (NO_SOURCE_FILE:2)\n",
      "expected: (= () (enlista ()))\n",
      "  actual: (not (= () nil))\n",
      "\n",
      "FAIL in () (NO_SOURCE_FILE:3)\n",
      "expected: (= (quote ((a) (b) (c))) (enlista (quote (a b c))))\n",
      "  actual: (not (= ((a) (b) (c)) nil))\n",
      "\n",
      "FAIL in () (NO_SOURCE_FILE:4)\n",
      "expected: (= (quote (((1 2 3)) (4) ((5)) (7) (8))) (enlista (quote ((1 2 3) 4 (5) 7 8))))\n",
      "  actual: (not (= (((1 2 3)) (4) ((5)) (7) (8)) nil))\n"
     ]
    },
    {
     "data": {
      "text/plain": [
       "false"
      ]
     },
     "execution_count": 6,
     "metadata": {},
     "output_type": "execute_result"
    }
   ],
   "source": [
    ";;; Unit tests:\n",
    "(is (= () (enlista ())))\n",
    "(is (= '((a) (b) (c)) (enlista '(a b c))))\n",
    "(is (= '(((1 2 3)) (4) ((5)) (7) (8))\n",
    "       (enlista '((1 2 3) 4 (5) 7 8))))"
   ]
  },
  {
   "cell_type": "markdown",
   "metadata": {},
   "source": [
    "---\n",
    "\n",
    "## TRES\n",
    "\n",
    "La función `duplica` toma una lista` lista` como entrada y devuelve una nueva lista con cada elemento de `lista` duplicado."
   ]
  },
  {
   "cell_type": "code",
   "execution_count": 8,
   "metadata": {},
   "outputs": [
    {
     "data": {
      "text/plain": [
       "#'user/duplica"
      ]
     },
     "execution_count": 8,
     "metadata": {},
     "output_type": "execute_result"
    }
   ],
   "source": [
    "(defn duplica\n",
    "  [lista]\n",
    "  ;;; your code goes here\n",
    "  nil)"
   ]
  },
  {
   "cell_type": "code",
   "execution_count": 9,
   "metadata": {},
   "outputs": [
    {
     "name": "stdout",
     "output_type": "stream",
     "text": [
      "\n",
      "FAIL in () (NO_SOURCE_FILE:3)\n",
      "expected: (= (quote (1 1 2 2 3 3 4 4 5 5)) (duplica (quote (1 2 3 4 5))))\n",
      "  actual: (not (= (1 1 2 2 3 3 4 4 5 5) nil))\n",
      "\n",
      "FAIL in () (NO_SOURCE_FILE:5)\n",
      "expected: (= () (duplica ()))\n",
      "  actual: (not (= () nil))\n",
      "\n",
      "FAIL in () (NO_SOURCE_FILE:7)\n",
      "expected: (= (quote (a a)) (duplica (quote (a))))\n",
      "  actual: (not (= (a a) nil))\n",
      "\n",
      "FAIL in () (NO_SOURCE_FILE:9)\n",
      "expected: (= (quote (a a b b c c d d e e f f g g h h)) (duplica (quote (a b c d e f g h))))\n",
      "  actual: (not (= (a a b b c c d d e e f f g g h h) nil))\n"
     ]
    },
    {
     "data": {
      "text/plain": [
       "false"
      ]
     },
     "execution_count": 9,
     "metadata": {},
     "output_type": "execute_result"
    }
   ],
   "source": [
    ";; Unit tests:\n",
    "\n",
    "(is (= '(1 1 2 2 3 3 4 4 5 5)\n",
    "       (duplica '(1 2 3 4 5))))\n",
    "(is (= ()\n",
    "       (duplica ())))\n",
    "(is (= '(a a)\n",
    "       (duplica '(a))))\n",
    "(is (= '(a a b b c c d d e e f f g g h h)\n",
    "       (duplica '(a b c d e f g h))))"
   ]
  },
  {
   "cell_type": "markdown",
   "metadata": {},
   "source": [
    "---\n",
    "\n",
    "## Cuatro\n",
    "\n",
    "La función `fibonacci` toma un entero positivo` n` como entrada y devuelve el elemento correspondiente de la secuencia de Fibonacci, que se puede definir matemáticamente como:\n",
    "\n",
    "$$\n",
    "\\text{fib}(n)=\\begin{cases}\n",
    "n & \\text{ if } n \\le 1 \\\\\n",
    "\\text{fib}(n-1) + \\text{fib}(n-2) & \\text{ if } n>1\n",
    "\\end{cases}\n",
    "$$"
   ]
  },
  {
   "cell_type": "code",
   "execution_count": 11,
   "metadata": {},
   "outputs": [
    {
     "data": {
      "text/plain": [
       "#'user/fibonacci"
      ]
     },
     "execution_count": 11,
     "metadata": {},
     "output_type": "execute_result"
    }
   ],
   "source": [
    "(defn fibonacci\n",
    "  [n]\n",
    "  ;;; your code goes here\n",
    "  nil)"
   ]
  },
  {
   "cell_type": "code",
   "execution_count": 13,
   "metadata": {},
   "outputs": [
    {
     "name": "stdout",
     "output_type": "stream",
     "text": [
      "\n",
      "FAIL in () (NO_SOURCE_FILE:2)\n",
      "expected: (= 0 (fibonacci 0))\n",
      "  actual: (not (= 0 nil))\n",
      "\n",
      "FAIL in () (NO_SOURCE_FILE:4)\n",
      "expected: (= 1 (fibonacci 1))\n",
      "  actual: (not (= 1 nil))\n",
      "\n",
      "FAIL in () (NO_SOURCE_FILE:6)\n",
      "expected: (= 1 (fibonacci 2))\n",
      "  actual: (not (= 1 nil))\n",
      "\n",
      "FAIL in () (NO_SOURCE_FILE:8)\n",
      "expected: (= 5 (fibonacci 5))\n",
      "  actual: (not (= 5 nil))\n",
      "\n",
      "FAIL in () (NO_SOURCE_FILE:10)\n",
      "expected: (= (quote (0 1 1 2 3 5 8 13 21 34 55 89 144 233 377 610 987 1597 2584 4181 6765)) (map fibonacci (range 21)))\n",
      "  actual: (not (= (0 1 1 2 3 5 8 13 21 34 55 89 144 233 377 610 987 1597 2584 4181 6765) (nil nil nil nil nil nil nil nil nil nil nil nil nil nil nil nil nil nil nil nil nil)))\n",
      "\n",
      "FAIL in () (NO_SOURCE_FILE:13)\n",
      "expected: (= 267914296 (fibonacci 42))\n",
      "  actual: (not (= 267914296 nil))\n"
     ]
    },
    {
     "data": {
      "text/plain": [
       "false"
      ]
     },
     "execution_count": 13,
     "metadata": {},
     "output_type": "execute_result"
    }
   ],
   "source": [
    ";;; Unit tests:\n",
    "(is (= 0\n",
    "       (fibonacci 0)))\n",
    "(is (= 1\n",
    "       (fibonacci 1)))\n",
    "(is (= 1\n",
    "       (fibonacci 2)))\n",
    "(is (= 5\n",
    "       (fibonacci 5)))\n",
    "(is (= '(0 1 1 2 3 5 8 13 21 34 55 89 144 233 377 610\n",
    "          987 1597 2584 4181 6765)\n",
    "       (map fibonacci (range 21))))\n",
    "(is (= 267914296\n",
    "       (fibonacci 42)))"
   ]
  },
  {
   "cell_type": "markdown",
   "metadata": {},
   "source": [
    "---\n",
    "\n",
    "## CINCO\n",
    "\n",
    "La función `agrega-cuadrados` devuelve la suma de los cuadrados de todos los números contenidos en su lista de entrada, o 0 si está vacío."
   ]
  },
  {
   "cell_type": "code",
   "execution_count": 15,
   "metadata": {},
   "outputs": [
    {
     "data": {
      "text/plain": [
       "#'user/agrega-cuadrados"
      ]
     },
     "execution_count": 15,
     "metadata": {},
     "output_type": "execute_result"
    }
   ],
   "source": [
    "(defn agrega-cuadrados\n",
    "  [lista]\n",
    "  ;;; your code goes here\n",
    "  nil)"
   ]
  },
  {
   "cell_type": "code",
   "execution_count": 16,
   "metadata": {},
   "outputs": [
    {
     "name": "stdout",
     "output_type": "stream",
     "text": [
      "\n",
      "FAIL in () (NO_SOURCE_FILE:2)\n",
      "expected: (= 0 (agrega-cuadrados ()))\n",
      "  actual: (not (= 0 nil))\n",
      "\n",
      "FAIL in () (NO_SOURCE_FILE:3)\n",
      "expected: (= 25 (agrega-cuadrados (quote (5))))\n",
      "  actual: (not (= 25 nil))\n",
      "\n",
      "FAIL in () (NO_SOURCE_FILE:4)\n",
      "expected: (= 30 (agrega-cuadrados (quote (2 4 1 3))))\n",
      "  actual: (not (= 30 nil))\n",
      "\n",
      "FAIL in () (NO_SOURCE_FILE:5)\n",
      "expected: (= 385 (agrega-cuadrados (quote (1 2 3 4 5 6 7 8 9 10))))\n",
      "  actual: (not (= 385 nil))\n"
     ]
    },
    {
     "data": {
      "text/plain": [
       "false"
      ]
     },
     "execution_count": 16,
     "metadata": {},
     "output_type": "execute_result"
    }
   ],
   "source": [
    ";;; Unit tests:\n",
    "(is (= 0 (agrega-cuadrados ())))\n",
    "(is (= 25 (agrega-cuadrados '(5))))\n",
    "(is (= 30 (agrega-cuadrados '(2 4 1 3))))\n",
    "(is (= 385 (agrega-cuadrados '(1 2 3 4 5 6 7 8 9 10))))"
   ]
  }
 ],
 "metadata": {
  "kernelspec": {
   "display_name": "Clojure (clojupyter=0.3.2=1)",
   "language": "clojure",
   "name": "conda-clojupyter"
  },
  "language_info": {
   "file_extension": ".clj",
   "mimetype": "text/x-clojure",
   "name": "clojure",
   "version": "1.10.1"
  }
 },
 "nbformat": 4,
 "nbformat_minor": 4
}
