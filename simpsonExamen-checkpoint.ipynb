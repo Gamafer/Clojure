{
 "cells": [
  {
   "cell_type": "markdown",
   "metadata": {
    "id": "PWOa0YM-AN_M"
   },
   "source": [
    "# Problemas ++\n",
    "\n",
    "## Ejercicios en equipo extendido\n",
    "\n",
    "---\n",
    "\n",
    "_nombre y matrícula_:Andrea Villarruel Sernas A01656255\n",
    "\n",
    "_nombre y matrícula_:Fernando Garrote De La Macorra A01027503\n",
    "\n",
    "\n",
    "---\n",
    "\n",
    "### Objetivo\n",
    "\n",
    "* Escribe funciones de complejidad media utilizando el lenguaje de programación Clojure.\n",
    "\n",
    "---\n",
    "\n",
    "### Instructions\n",
    "\n",
    "- Con todos los miembros del equipo de su sala de reuniones, escriba el código Clojure necesario para resolver el siguiente problema. \n",
    "\n",
    "- NO USAR CICLOS, NI RECURSIÓN\n",
    "\n",
    "- Fecha de entrega: 9 mayo 2021."
   ]
  },
  {
   "cell_type": "markdown",
   "metadata": {
    "id": "winpwSiXAN_S"
   },
   "source": [
    "Revisa: https://www.youtube.com/watch?v=Uie0KxjwKlE"
   ]
  },
  {
   "cell_type": "markdown",
   "metadata": {
    "id": "yZoKMCD8AN_S"
   },
   "source": [
    "---\n",
    "\n",
    "## 2do Parcial:\n",
    "\n",
    "** La regla de Simpson ** es un método para la integración numérica:\n",
    "\n",
    "$$\n",
    "\\int_{a}^{b}f=\\frac{h}{3}(y_0 + 4y_1 + 2y_2 + 4y_3 + 2y_4 + \\cdots + 2y_{n-2} + 4y_{n-1} + y_n)\n",
    "$$\n",
    "\n",
    "Donde $ n $ es un número entero positivo par (si incrementas el valor de $ n $ obtienes una mejor aproximación), y $ h $ y $ y_k $ se definen de la siguiente manera:\n",
    "\n",
    "$$\n",
    "h = \\frac{b - a}{n}\n",
    "$$\n",
    "\n",
    "$$\n",
    "y_k = f(a + kh)\n",
    "$$\n",
    "\n",
    "Escribe la función `simpson`, que toma como argumentos `a`, `b`,` n` y `f`. Devuelve el valor de la integral, usando la regla de Simpson. \n",
    "\n",
    "Realiza tus pruebas unitarias para resolver las siguientes integrales simples y dobles (con  `n` = 4 y con `n` = 20):\n",
    "\n",
    "$$\n",
    "\\int_{0}^{1} x^3\\textit{dx}\n",
    "$$\n",
    "\n",
    "\n",
    "$$\n",
    "\\int_{1}^{2} \\frac{sin(x)}{x}\\textit{dx}\n",
    "$$\n",
    "\n",
    "\n",
    "$$\n",
    "\\int_{1}^{2} \\int_{3}^{4} xy \\cdot \\textit{dx} \\cdot \\textit{dy} \n",
    "$$\n"
   ]
  },
  {
   "cell_type": "code",
   "execution_count": 26,
   "metadata": {
    "id": "9wIfVmUCay5H"
   },
   "outputs": [
    {
     "data": {
      "text/plain": [
       "nil"
      ]
     },
     "execution_count": 26,
     "metadata": {},
     "output_type": "execute_result"
    }
   ],
   "source": [
    ";; agrega tus funciones para probar la regla de simpson.\n",
    "(require '[clojure.test :refer [is]])\n",
    "(require '[cemerick.pomegranate :refer [add-dependencies]])\n",
    "(add-dependencies :coordinates '[[org.clojure/math.numeric-tower \"0.0.4\"]])\n",
    "(require '[clojure.math.numeric-tower :refer [sqrt]])"
   ]
  },
  {
   "cell_type": "code",
   "execution_count": 2,
   "metadata": {
    "id": "juu_UDEIAN_T"
   },
   "outputs": [
    {
     "data": {
      "text/plain": [
       "#'user/sum"
      ]
     },
     "execution_count": 2,
     "metadata": {},
     "output_type": "execute_result"
    }
   ],
   "source": [
    "(defn sum [term a next b]\n",
    "  (if (> a b)\n",
    "    0\n",
    "    (+ (term a)\n",
    "       (sum term (next a) next b))))\n",
    "\n"
   ]
  },
  {
   "cell_type": "code",
   "execution_count": 3,
   "metadata": {},
   "outputs": [
    {
     "name": "stderr",
     "output_type": "stream",
     "text": [
      "Syntax error (ArityException) compiling float at (REPL:10:8).\r\n",
      "Wrong number of args (2) passed to: clojure.core/float--inliner--6055\r\n"
     ]
    },
    {
     "ename": "class clojure.lang.Compiler$CompilerException",
     "evalue": "",
     "output_type": "error",
     "traceback": [
      "   AFn.java:   429 clojure.lang.AFn/throwArity",
      "   AFn.java:    36 clojure.lang.AFn/invoke",
      "   AFn.java:   156 clojure.lang.AFn/applyToHelper",
      "   AFn.java:   144 clojure.lang.AFn/applyTo",
      "   core.clj:  3214 clojure.core$eval/invokeStatic",
      "   core.clj:  3210 clojure.core$eval/invoke",
      "   main.clj:   437 clojure.main$repl$read_eval_print__9086$fn__9089/invoke",
      "   main.clj:   458 clojure.main$repl$fn__9095/invoke",
      "   main.clj:   368 clojure.main$repl/doInvoke",
      "RestFn.java:  1523 clojure.lang.RestFn/invoke",
      "   AFn.java:    22 clojure.lang.AFn/run",
      "   AFn.java:    22 clojure.lang.AFn/run",
      "Thread.java:   745 java.lang.Thread/run"
     ]
    }
   ],
   "source": [
    "(defn simpson-sum [f a b n]\n",
    "  (let [h (/ (- b a) n)\n",
    "        simpson-term (fn [k]\n",
    "                       (let [y (f (+ a (* k h)))]\n",
    "                         (cond (zero? k) y\n",
    "                               (= k n) y\n",
    "                               (odd? k) (* 4 y)\n",
    "                               (even? k) (* 2 y))))]\n",
    "    (*(defn simpson-lazy [nextState] (lazy-seq (cons (simpson-term nextState) (simpson-lazy (inc nextState))))\n",
    "       ( float (* (reduce + ' (take (+ n 1) (simpson-lazy 0)))) (/ h 3))))\n",
    "       )\n",
    "    )\n",
    "    "
   ]
  },
  {
   "cell_type": "code",
   "execution_count": 30,
   "metadata": {},
   "outputs": [
    {
     "data": {
      "text/plain": [
       "#'user/integral1"
      ]
     },
     "execution_count": 30,
     "metadata": {},
     "output_type": "execute_result"
    }
   ],
   "source": [
    "(defn integral1 [x] (* x x x) )"
   ]
  },
  {
   "cell_type": "code",
   "execution_count": 45,
   "metadata": {},
   "outputs": [
    {
     "name": "stderr",
     "output_type": "stream",
     "text": [
      "Execution error (ClassCastException) at user/eval4458 (REPL:1).\r\n",
      "clojure.lang.Var cannot be cast to java.lang.Number\r\n"
     ]
    },
    {
     "ename": "class java.lang.ClassCastException",
     "evalue": "",
     "output_type": "error",
     "traceback": [
      "    RT.java:  1319 clojure.lang.RT/floatCast",
      "   core.clj:  3214 clojure.core$eval/invokeStatic",
      "   core.clj:  3210 clojure.core$eval/invoke",
      "   main.clj:   437 clojure.main$repl$read_eval_print__9086$fn__9089/invoke",
      "   main.clj:   458 clojure.main$repl$fn__9095/invoke",
      "   main.clj:   368 clojure.main$repl/doInvoke",
      "RestFn.java:  1523 clojure.lang.RestFn/invoke",
      "   AFn.java:    22 clojure.lang.AFn/run",
      "   AFn.java:    22 clojure.lang.AFn/run",
      "Thread.java:   745 java.lang.Thread/run"
     ]
    }
   ],
   "source": [
    "(float(simpson-sum integral1 0 1 20))"
   ]
  },
  {
   "cell_type": "code",
   "execution_count": null,
   "metadata": {},
   "outputs": [],
   "source": []
  }
 ],
 "metadata": {
  "colab": {
   "name": "simpson.ipynb",
   "provenance": []
  },
  "kernelspec": {
   "display_name": "Clojure (clojupyter=0.3.2=1)",
   "language": "clojure",
   "name": "conda-clojupyter"
  },
  "language_info": {
   "file_extension": ".clj",
   "mimetype": "text/x-clojure",
   "name": "clojure",
   "version": "1.10.1"
  }
 },
 "nbformat": 4,
 "nbformat_minor": 1
}
