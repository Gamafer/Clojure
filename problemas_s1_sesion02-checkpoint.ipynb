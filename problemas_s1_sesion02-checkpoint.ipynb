{
 "cells": [
  {
   "cell_type": "markdown",
   "metadata": {},
   "source": [
    "# Primer SET\n",
    "\n",
    "## Ejercicios en clase\n",
    "\n",
    "---\n",
    "\n",
    "_Matrícula y Nombre_:\n",
    "\n",
    "_Matrícula y Nombre_:\n",
    "\n",
    "_Matrícula y Nombre_:\n",
    "\n",
    "---"
   ]
  },
  {
   "cell_type": "code",
   "execution_count": 1,
   "metadata": {},
   "outputs": [
    {
     "data": {
      "text/plain": [
       "12"
      ]
     },
     "execution_count": 1,
     "metadata": {},
     "output_type": "execute_result"
    }
   ],
   "source": [
    ";;; 1)\n",
    "12"
   ]
  },
  {
   "cell_type": "markdown",
   "metadata": {},
   "source": [
    "_... Agrega las celdas que faltan ..._"
   ]
  },
  {
   "cell_type": "markdown",
   "metadata": {},
   "source": [
    "---\n",
    "\n",
    "## Tabla resumen, llena la tabla después de terminar todas las entradas. \n",
    "\n",
    "| Operador | Cuál es su input? | Cuál es su salida? |\n",
    "|---------|---|---|\n",
    "|`first`  |   |   |\n",
    "|`rest`   |   |   |\n",
    "|`cons`   |   |   |\n",
    "|`def`    |   |   |\n",
    "|`count`  |   |   |\n",
    "|`list`   |   |   |\n",
    "|`list?`  |   |   |\n",
    "|`empty?` |   |   |\n",
    "|`number?`|   |   |\n",
    "|`symbol?`|   |   |\n",
    "|`'`      |   |   |\n",
    "|`=`      |   |   |\n",
    "|`*`      |   |   |\n",
    "|`+`      |   |   |\n",
    "|`-`      |   |   |"
   ]
  }
 ],
 "metadata": {
  "kernelspec": {
   "display_name": "Clojure (clojupyter=0.3.2=1)",
   "language": "clojure",
   "name": "conda-clojupyter"
  },
  "language_info": {
   "file_extension": ".clj",
   "mimetype": "text/x-clojure",
   "name": "clojure",
   "version": "1.10.1"
  }
 },
 "nbformat": 4,
 "nbformat_minor": 4
}
