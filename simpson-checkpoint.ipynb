{
 "cells": [
  {
   "cell_type": "markdown",
   "metadata": {
    "id": "PWOa0YM-AN_M"
   },
   "source": [
    "# Problemas ++\n",
    "\n",
    "## Ejercicios en equipo extendido\n",
    "\n",
    "---\n",
    "\n",
    "_nombre y matrícula_:Andrea Villarruel Sernas A01656255\n",
    "\n",
    "_nombre y matrícula_:Fernando Garrote De La Macorra A01027503\n",
    "\n",
    "\n",
    "---\n",
    "\n",
    "### Objetivo\n",
    "\n",
    "* Escribe funciones de complejidad media utilizando el lenguaje de programación Clojure.\n",
    "\n",
    "---\n",
    "\n",
    "### Instructions\n",
    "\n",
    "- Con todos los miembros del equipo de su sala de reuniones, escriba el código Clojure necesario para resolver el siguiente problema. \n",
    "\n",
    "- NO USAR CICLOS, NI RECURSIÓN\n",
    "\n",
    "- Fecha de entrega: 9 mayo 2021."
   ]
  },
  {
   "cell_type": "markdown",
   "metadata": {
    "id": "winpwSiXAN_S"
   },
   "source": [
    "Revisa: https://www.youtube.com/watch?v=Uie0KxjwKlE"
   ]
  },
  {
   "cell_type": "markdown",
   "metadata": {
    "id": "yZoKMCD8AN_S"
   },
   "source": [
    "---\n",
    "\n",
    "## 2do Parcial:\n",
    "\n",
    "** La regla de Simpson ** es un método para la integración numérica:\n",
    "\n",
    "$$\n",
    "\\int_{a}^{b}f=\\frac{h}{3}(y_0 + 4y_1 + 2y_2 + 4y_3 + 2y_4 + \\cdots + 2y_{n-2} + 4y_{n-1} + y_n)\n",
    "$$\n",
    "\n",
    "Donde $ n $ es un número entero positivo par (si incrementas el valor de $ n $ obtienes una mejor aproximación), y $ h $ y $ y_k $ se definen de la siguiente manera:\n",
    "\n",
    "$$\n",
    "h = \\frac{b - a}{n}\n",
    "$$\n",
    "\n",
    "$$\n",
    "y_k = f(a + kh)\n",
    "$$\n",
    "\n",
    "Escribe la función `simpson`, que toma como argumentos `a`, `b`,` n` y `f`. Devuelve el valor de la integral, usando la regla de Simpson. \n",
    "\n",
    "Realiza tus pruebas unitarias para resolver las siguientes integrales simples y dobles (con  `n` = 4 y con `n` = 20):\n",
    "\n",
    "$$\n",
    "\\int_{0}^{1} x^3\\textit{dx}\n",
    "$$\n",
    "\n",
    "\n",
    "$$\n",
    "\\int_{1}^{2} \\frac{sin(x)}{x}\\textit{dx}\n",
    "$$\n",
    "\n",
    "\n",
    "$$\n",
    "\\int_{1}^{2} \\int_{3}^{4} xy \\cdot \\textit{dx} \\cdot \\textit{dy} \n",
    "$$\n"
   ]
  },
  {
   "cell_type": "code",
   "execution_count": null,
   "metadata": {
    "id": "9wIfVmUCay5H"
   },
   "outputs": [],
   "source": [
    ";; agrega tus funciones para probar la regla de simpson."
   ]
  },
  {
   "cell_type": "code",
   "execution_count": 2,
   "metadata": {
    "id": "juu_UDEIAN_T"
   },
   "outputs": [
    {
     "data": {
      "text/plain": [
       "#'user/sum"
      ]
     },
     "execution_count": 2,
     "metadata": {},
     "output_type": "execute_result"
    }
   ],
   "source": [
    "(defn sum [term a next b]\n",
    "  (if (> a b)\n",
    "    0\n",
    "    (+ (term a)\n",
    "       (sum term (next a) next b))))\n",
    "\n"
   ]
  },
  {
   "cell_type": "code",
   "execution_count": 5,
   "metadata": {},
   "outputs": [
    {
     "data": {
      "text/plain": [
       "#'user/simpson-sum"
      ]
     },
     "execution_count": 5,
     "metadata": {},
     "output_type": "execute_result"
    }
   ],
   "source": [
    "(defn simpson-sum [f a b n]\n",
    "  (let [h (/ (- b a) n)\n",
    "        simpson-term (fn [k]\n",
    "                       (let [y (f (+ a (* k h)))]\n",
    "                         (cond (zero? k) y\n",
    "                               (= k n) y\n",
    "                               (odd? k) (* 4 y)\n",
    "                               (even? k) (* 2 y))))]\n",
    "    (* (sum simpson-term 0 inc n)\n",
    "       (/ h 3))))"
   ]
  },
  {
   "cell_type": "code",
   "execution_count": 6,
   "metadata": {},
   "outputs": [
    {
     "data": {
      "text/plain": [
       "#'user/integral1"
      ]
     },
     "execution_count": 6,
     "metadata": {},
     "output_type": "execute_result"
    }
   ],
   "source": [
    "(defn integral1 [x] (* x x x) )"
   ]
  },
  {
   "cell_type": "code",
   "execution_count": 12,
   "metadata": {},
   "outputs": [
    {
     "data": {
      "text/plain": [
       "0.25"
      ]
     },
     "execution_count": 12,
     "metadata": {},
     "output_type": "execute_result"
    }
   ],
   "source": [
    "(float(simpson-sum integral1 0 1 20))"
   ]
  },
  {
   "cell_type": "code",
   "execution_count": null,
   "metadata": {},
   "outputs": [],
   "source": []
  }
 ],
 "metadata": {
  "colab": {
   "name": "simpson.ipynb",
   "provenance": []
  },
  "kernelspec": {
   "display_name": "Clojure (clojupyter=0.3.2=1)",
   "language": "clojure",
   "name": "conda-clojupyter"
  },
  "language_info": {
   "file_extension": ".clj",
   "mimetype": "text/x-clojure",
   "name": "clojure",
   "version": "1.10.1"
  }
 },
 "nbformat": 4,
 "nbformat_minor": 1
}
