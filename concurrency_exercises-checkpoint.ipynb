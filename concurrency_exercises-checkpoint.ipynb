{
 "cells": [
  {
   "cell_type": "markdown",
   "metadata": {},
   "source": [
    "# Problemas ++\n",
    "\n",
    "## Ejercicios en equipo extendido\n",
    "\n",
    "---\n",
    "\n",
    "_nombre y matrícula_:\n",
    "\n",
    "_nombre y matrícula_:\n",
    "\n",
    "_nombre y matrícula_:\n",
    "\n",
    "---\n",
    "\n",
    "### Objetivo\n",
    "\n",
    "* Escribe funciones de complejidad media utilizando el lenguaje de programación Clojure.\n",
    "\n",
    "---\n",
    "\n",
    "### Instructions\n",
    "\n",
    "- Con todos los miembros del equipo de su sala de reuniones, escriba el código Clojure necesario para resolver los siguientes problemas. Asegúrese de que cada función pase todas las pruebas unitarias.\n",
    "\n",
    "\n",
    "- Fecha de entrega: 4 Octubre 2020."
   ]
  },
  {
   "cell_type": "markdown",
   "metadata": {},
   "source": [
    "## UNO\n",
    "Tu proyecto actual es un prototipo para una aplicación de negociación de acciones. Necesita escribir una función que simule a un cliente comprando una cantidad determinada de acciones a un precio determinado. Para que la compra tenga éxito,\n",
    "Deben suceder cuatro cosas: \n",
    "1. La cuenta del cliente se carga por el monto de la transacción. \n",
    "2. La cuenta del corredor se acredita por la misma cantidad. \n",
    "3. La cuenta de acciones del corredor (para esa acción en particular) se carga, es decir, ahora hay n acciones menos en esa cuenta. \n",
    "4. La cuenta de existencias del cliente (para esa acción en particular) se acredita: ahora hay n acciones más. \n",
    "\n",
    "Sin embargo, si el precio de las acciones cambia mientras esto ocurre, toda la compra debe invalidarse y reintentarse. Además, dado que se trata de una simulación, usaremos Thread / sleep para ralentizar las funciones:"
   ]
  },
  {
   "cell_type": "code",
   "execution_count": 16,
   "metadata": {},
   "outputs": [
    {
     "data": {
      "text/plain": [
       "#'user/acciones-cliente"
      ]
     },
     "execution_count": 16,
     "metadata": {},
     "output_type": "execute_result"
    }
   ],
   "source": [
    "(def cuenta-cliente(ref 2100)) \n",
    "(def cuenta-corredor (ref 10000)) \n",
    "(def precio-acción-acme-corp(ref 22)) \n",
    "(def acciones-corredor(ref {:acme-corp 50})) \n",
    "(def acciones-cliente (ref {:acme-corp 0}))"
   ]
  },
  {
   "cell_type": "markdown",
   "metadata": {},
   "source": [
    "El cliente comienza con cero acciones de Acme Corp y un saldo de divisas de 2100 en su cuenta. El corredor tiene 50 acciones y un saldo de 10000."
   ]
  },
  {
   "cell_type": "markdown",
   "metadata": {},
   "source": [
    "---\n",
    "\n",
    "##  Escriba una función que describa una transacción completa: "
   ]
  },
  {
   "cell_type": "code",
   "execution_count": 1,
   "metadata": {},
   "outputs": [
    {
     "name": "stderr",
     "output_type": "stream",
     "text": [
      "Syntax error compiling at (REPL:3:10).\r\n",
      "Unable to resolve symbol: cuenta-cliente in this context\r\n"
     ]
    },
    {
     "ename": "class clojure.lang.Compiler$CompilerException",
     "evalue": "",
     "output_type": "error",
     "traceback": [
      "  Util.java:   221 clojure.lang.Util/runtimeException",
      "   core.clj:  3214 clojure.core$eval/invokeStatic",
      "   core.clj:  3210 clojure.core$eval/invoke",
      "   main.clj:   437 clojure.main$repl$read_eval_print__9086$fn__9089/invoke",
      "   main.clj:   458 clojure.main$repl$fn__9095/invoke",
      "   main.clj:   368 clojure.main$repl/doInvoke",
      "RestFn.java:  1523 clojure.lang.RestFn/invoke",
      "   AFn.java:    22 clojure.lang.AFn/run",
      "   AFn.java:    22 clojure.lang.AFn/run",
      "Thread.java:   745 java.lang.Thread/run"
     ]
    }
   ],
   "source": [
    "(defn transaccion [num_acciones]\n",
    "    (dosync \n",
    "         (alter cuenta-cliente - (* num_acciones @precio-acción-acme-corp))\n",
    "         (alter cuenta-corredor + (* num_acciones @precio-acción-acme-corp))\n",
    "         (alter acciones-cliente + num_acciones)\n",
    "         (alter acciones-corredor - num_acciones)\n",
    "     )\n",
    ")"
   ]
  },
  {
   "cell_type": "markdown",
   "metadata": {},
   "source": [
    "## DOS\n",
    "Utilizando átomos crea una función que simula un timer con segundos y minutos. Pide ambos valores de inicio al usuario."
   ]
  },
  {
   "cell_type": "code",
   "execution_count": null,
   "metadata": {},
   "outputs": [],
   "source": []
  },
  {
   "cell_type": "code",
   "execution_count": null,
   "metadata": {},
   "outputs": [],
   "source": []
  }
 ],
 "metadata": {
  "kernelspec": {
   "display_name": "Clojure (clojupyter=0.3.2=1)",
   "language": "clojure",
   "name": "conda-clojupyter"
  },
  "language_info": {
   "file_extension": ".clj",
   "mimetype": "text/x-clojure",
   "name": "clojure",
   "version": "1.10.1"
  }
 },
 "nbformat": 4,
 "nbformat_minor": 4
}
