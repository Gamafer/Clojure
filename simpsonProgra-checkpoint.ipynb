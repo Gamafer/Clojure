{
 "cells": [
  {
   "cell_type": "markdown",
   "metadata": {
    "id": "PWOa0YM-AN_M"
   },
   "source": [
    "# Problemas ++\n",
    "\n",
    "## Ejercicios en equipo extendido\n",
    "\n",
    "---\n",
    "\n",
    "_nombre y matrícula_:Andrea Villarruel Sernas A01656255\n",
    "\n",
    "_nombre y matrícula_:Fernando Garrote De La Macorra A01027503\n",
    "\n",
    "\n",
    "---\n",
    "\n",
    "### Objetivo\n",
    "\n",
    "* Escribe funciones de complejidad media utilizando el lenguaje de programación Clojure.\n",
    "\n",
    "---\n",
    "\n",
    "### Instructions\n",
    "\n",
    "- Con todos los miembros del equipo de su sala de reuniones, escriba el código Clojure necesario para resolver el siguiente problema. \n",
    "\n",
    "- NO USAR CICLOS, NI RECURSIÓN\n",
    "\n",
    "- Fecha de entrega: 9 mayo 2021."
   ]
  },
  {
   "cell_type": "markdown",
   "metadata": {
    "id": "winpwSiXAN_S"
   },
   "source": [
    "Revisa: https://www.youtube.com/watch?v=Uie0KxjwKlE"
   ]
  },
  {
   "cell_type": "markdown",
   "metadata": {
    "id": "yZoKMCD8AN_S"
   },
   "source": [
    "---\n",
    "\n",
    "## 2do Parcial:\n",
    "\n",
    "** La regla de Simpson ** es un método para la integración numérica:\n",
    "\n",
    "$$\n",
    "\\int_{a}^{b}f=\\frac{h}{3}(y_0 + 4y_1 + 2y_2 + 4y_3 + 2y_4 + \\cdots + 2y_{n-2} + 4y_{n-1} + y_n)\n",
    "$$\n",
    "\n",
    "Donde $ n $ es un número entero positivo par (si incrementas el valor de $ n $ obtienes una mejor aproximación), y $ h $ y $ y_k $ se definen de la siguiente manera:\n",
    "\n",
    "$$\n",
    "h = \\frac{b - a}{n}\n",
    "$$\n",
    "\n",
    "$$\n",
    "y_k = f(a + kh)\n",
    "$$\n",
    "\n",
    "Escribe la función `simpson`, que toma como argumentos `a`, `b`,` n` y `f`. Devuelve el valor de la integral, usando la regla de Simpson. \n",
    "\n",
    "Realiza tus pruebas unitarias para resolver las siguientes integrales simples y dobles (con  `n` = 4 y con `n` = 20):\n",
    "\n",
    "$$\n",
    "\\int_{0}^{1} x^3\\textit{dx}\n",
    "$$\n",
    "\n",
    "\n",
    "$$\n",
    "\\int_{1}^{2} \\frac{sin(x)}{x}\\textit{dx}\n",
    "$$\n",
    "\n",
    "\n",
    "$$\n",
    "\\int_{1}^{2} \\int_{3}^{4} xy \\cdot \\textit{dx} \\cdot \\textit{dy} \n",
    "$$\n"
   ]
  },
  {
   "cell_type": "code",
   "execution_count": 122,
   "metadata": {
    "id": "9wIfVmUCay5H"
   },
   "outputs": [],
   "source": [
    ";; agrega tus funciones para probar la regla de simpson.\n"
   ]
  },
  {
   "cell_type": "code",
   "execution_count": 215,
   "metadata": {
    "id": "juu_UDEIAN_T"
   },
   "outputs": [
    {
     "data": {
      "text/plain": [
       "#'user/integral3"
      ]
     },
     "execution_count": 215,
     "metadata": {},
     "output_type": "execute_result"
    }
   ],
   "source": [
    "(defn integral1 [x](* x x x))\n",
    "(defn integral2 [x] (/ (Math/sin x) x))\n",
    "(defn integral3[x] x)"
   ]
  },
  {
   "cell_type": "code",
   "execution_count": 216,
   "metadata": {},
   "outputs": [
    {
     "data": {
      "text/plain": [
       "#'user/simpson"
      ]
     },
     "execution_count": 216,
     "metadata": {},
     "output_type": "execute_result"
    }
   ],
   "source": [
    " (defn simpson [a b n f]\n",
    "  (let [h (/ (- b a) n)\n",
    "        simpsonT (fn [k]\n",
    "                       (let [y (f (+ a (* k h)))]\n",
    "                         (cond (zero? k) y\n",
    "                          (= k n) y\n",
    "                          (odd? k) (* 4 y)\n",
    "                          (even? k) (* 2 y))))] \n",
    "     (defn simpsonL ([i] (lazy-seq (cons (simpsonT i) (simpsonL (inc i))))))\n",
    "      (float (* (reduce + (take (+ n 1) (simpsonL 0))) (/ h 3)))\n",
    "        )\n",
    "    )"
   ]
  },
  {
   "cell_type": "code",
   "execution_count": 217,
   "metadata": {},
   "outputs": [
    {
     "data": {
      "text/plain": [
       "#'user/simpsonDoble"
      ]
     },
     "execution_count": 217,
     "metadata": {},
     "output_type": "execute_result"
    }
   ],
   "source": [
    "(defn simpsonDoble[a b c d n f]\n",
    "    (* (simpson a b n f) (simpson c d n f))\n",
    "    )"
   ]
  },
  {
   "cell_type": "code",
   "execution_count": 218,
   "metadata": {},
   "outputs": [
    {
     "data": {
      "text/plain": [
       "0.25"
      ]
     },
     "execution_count": 218,
     "metadata": {},
     "output_type": "execute_result"
    }
   ],
   "source": [
    "(simpson 0 1 4 integral1) "
   ]
  },
  {
   "cell_type": "code",
   "execution_count": 219,
   "metadata": {},
   "outputs": [
    {
     "data": {
      "text/plain": [
       "0.25"
      ]
     },
     "execution_count": 219,
     "metadata": {},
     "output_type": "execute_result"
    }
   ],
   "source": [
    "(simpson 0 1 20 integral1)"
   ]
  },
  {
   "cell_type": "code",
   "execution_count": 220,
   "metadata": {},
   "outputs": [
    {
     "data": {
      "text/plain": [
       "0.6593312"
      ]
     },
     "execution_count": 220,
     "metadata": {},
     "output_type": "execute_result"
    }
   ],
   "source": [
    "(simpson 1 2 4 integral2) "
   ]
  },
  {
   "cell_type": "code",
   "execution_count": 221,
   "metadata": {},
   "outputs": [
    {
     "data": {
      "text/plain": [
       "0.6593299"
      ]
     },
     "execution_count": 221,
     "metadata": {},
     "output_type": "execute_result"
    }
   ],
   "source": [
    "(simpson 1 2 20 integral2) "
   ]
  },
  {
   "cell_type": "code",
   "execution_count": 222,
   "metadata": {},
   "outputs": [
    {
     "data": {
      "text/plain": [
       "5.25"
      ]
     },
     "execution_count": 222,
     "metadata": {},
     "output_type": "execute_result"
    }
   ],
   "source": [
    "(simpsonDoble 3 4 1 2 20 integral3)"
   ]
  },
  {
   "cell_type": "code",
   "execution_count": 223,
   "metadata": {},
   "outputs": [
    {
     "data": {
      "text/plain": [
       "5.25"
      ]
     },
     "execution_count": 223,
     "metadata": {},
     "output_type": "execute_result"
    }
   ],
   "source": [
    "(simpsonDoble 3 4 1 2 4 integral3)"
   ]
  },
  {
   "cell_type": "code",
   "execution_count": null,
   "metadata": {},
   "outputs": [],
   "source": []
  }
 ],
 "metadata": {
  "colab": {
   "name": "simpson.ipynb",
   "provenance": []
  },
  "kernelspec": {
   "display_name": "Clojure (clojupyter=0.3.2=1)",
   "language": "clojure",
   "name": "conda-clojupyter"
  },
  "language_info": {
   "file_extension": ".clj",
   "mimetype": "text/x-clojure",
   "name": "clojure",
   "version": "1.10.1"
  }
 },
 "nbformat": 4,
 "nbformat_minor": 1
}
